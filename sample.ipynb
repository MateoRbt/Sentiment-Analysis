{
 "cells": [
  {
   "metadata": {},
   "cell_type": "markdown",
   "source": [
    "# This is a sample Jupyter Notebook\n",
    "\n",
    "Below is an example of a code cell. \n",
    "Put your cursor into the cell and press Shift+Enter to execute it and select the next one, or click 'Run Cell' button.\n",
    "\n",
    "Press Double Shift to search everywhere for classes, files, tool windows, actions, and settings.\n",
    "\n",
    "To learn more about Jupyter Notebooks in PyCharm, see [help](https://www.jetbrains.com/help/pycharm/ipython-notebook-support.html).\n",
    "For an overview of PyCharm, go to Help -> Learn IDE features or refer to [our documentation](https://www.jetbrains.com/help/pycharm/getting-started.html)."
   ],
   "id": "8a77807f92f26ee"
  },
  {
   "metadata": {
    "ExecuteTime": {
     "end_time": "2024-12-19T15:04:45.084251Z",
     "start_time": "2024-12-19T15:04:44.754611Z"
    }
   },
   "cell_type": "code",
   "source": [
    "# Import necessary libraries\n",
    "import pandas as pd\n",
    "import matplotlib.pyplot as plt\n",
    "import os\n",
    "# Download necessary NLTK data\n",
    "import nltk\n",
    "from jupyter_core.version import pattern\n",
    "\n",
    "nltk.download('punkt')\n",
    "nltk.download('stopwords')\n"
   ],
   "id": "fbc121e30a2defb3",
   "outputs": [
    {
     "name": "stderr",
     "output_type": "stream",
     "text": [
      "[nltk_data] Downloading package punkt to\n",
      "[nltk_data]     C:\\Users\\mateo\\AppData\\Roaming\\nltk_data...\n",
      "[nltk_data]   Package punkt is already up-to-date!\n",
      "[nltk_data] Downloading package stopwords to\n",
      "[nltk_data]     C:\\Users\\mateo\\AppData\\Roaming\\nltk_data...\n",
      "[nltk_data]   Package stopwords is already up-to-date!\n"
     ]
    },
    {
     "data": {
      "text/plain": [
       "True"
      ]
     },
     "execution_count": 2,
     "metadata": {},
     "output_type": "execute_result"
    }
   ],
   "execution_count": 2
  },
  {
   "metadata": {},
   "cell_type": "markdown",
   "source": "# Load and display the data\n",
   "id": "c8c7eefdfa737a47"
  },
  {
   "metadata": {
    "ExecuteTime": {
     "end_time": "2024-12-19T15:04:47.666777Z",
     "start_time": "2024-12-19T15:04:47.640770Z"
    }
   },
   "cell_type": "code",
   "source": [
    "# Define the path to the manually downloaded dataset\n",
    "data_path = \"data/data.csv\"  # Update the file name if it's different\n",
    "\n",
    "# Check if the file exists before attempting to load\n",
    "if not os.path.exists(data_path):\n",
    "    raise FileNotFoundError(f\"Dataset file not found at {data_path}. Ensure the file is in the correct location.\")\n",
    "\n",
    "# Load the dataset\n",
    "df= pd.read_csv(data_path)\n",
    "print(\"Dataset loaded successfully!\")\n",
    "\n",
    "# Display the first few rows of the DataFrame\n",
    "df.head()\n"
   ],
   "id": "19436ec750012158",
   "outputs": [
    {
     "name": "stdout",
     "output_type": "stream",
     "text": [
      "Dataset loaded successfully!\n"
     ]
    },
    {
     "data": {
      "text/plain": [
       "                                            Sentence Sentiment\n",
       "0  The GeoSolutions technology will leverage Bene...  positive\n",
       "1  $ESI on lows, down $1.50 to $2.50 BK a real po...  negative\n",
       "2  For the last quarter of 2010 , Componenta 's n...  positive\n",
       "3  According to the Finnish-Russian Chamber of Co...   neutral\n",
       "4  The Swedish buyout firm has sold its remaining...   neutral"
      ],
      "text/html": [
       "<div>\n",
       "<style scoped>\n",
       "    .dataframe tbody tr th:only-of-type {\n",
       "        vertical-align: middle;\n",
       "    }\n",
       "\n",
       "    .dataframe tbody tr th {\n",
       "        vertical-align: top;\n",
       "    }\n",
       "\n",
       "    .dataframe thead th {\n",
       "        text-align: right;\n",
       "    }\n",
       "</style>\n",
       "<table border=\"1\" class=\"dataframe\">\n",
       "  <thead>\n",
       "    <tr style=\"text-align: right;\">\n",
       "      <th></th>\n",
       "      <th>Sentence</th>\n",
       "      <th>Sentiment</th>\n",
       "    </tr>\n",
       "  </thead>\n",
       "  <tbody>\n",
       "    <tr>\n",
       "      <th>0</th>\n",
       "      <td>The GeoSolutions technology will leverage Bene...</td>\n",
       "      <td>positive</td>\n",
       "    </tr>\n",
       "    <tr>\n",
       "      <th>1</th>\n",
       "      <td>$ESI on lows, down $1.50 to $2.50 BK a real po...</td>\n",
       "      <td>negative</td>\n",
       "    </tr>\n",
       "    <tr>\n",
       "      <th>2</th>\n",
       "      <td>For the last quarter of 2010 , Componenta 's n...</td>\n",
       "      <td>positive</td>\n",
       "    </tr>\n",
       "    <tr>\n",
       "      <th>3</th>\n",
       "      <td>According to the Finnish-Russian Chamber of Co...</td>\n",
       "      <td>neutral</td>\n",
       "    </tr>\n",
       "    <tr>\n",
       "      <th>4</th>\n",
       "      <td>The Swedish buyout firm has sold its remaining...</td>\n",
       "      <td>neutral</td>\n",
       "    </tr>\n",
       "  </tbody>\n",
       "</table>\n",
       "</div>"
      ]
     },
     "execution_count": 3,
     "metadata": {},
     "output_type": "execute_result"
    }
   ],
   "execution_count": 3
  },
  {
   "metadata": {},
   "cell_type": "markdown",
   "source": "# Drop the neutral class",
   "id": "7252c76680e70976"
  },
  {
   "metadata": {
    "ExecuteTime": {
     "end_time": "2024-12-19T15:04:50.181853Z",
     "start_time": "2024-12-19T15:04:50.166855Z"
    }
   },
   "cell_type": "code",
   "source": [
    "# Assuming the sentiment labels are stored in a column named 'sentiment'\n",
    "sentiment_column = 'Sentiment'  # Replace with the actual column name in your dataset\n",
    "\n",
    "# Check the unique values in the sentiment column to confirm the presence of 'neutral'\n",
    "print(\"Unique sentiment labels before filtering:\", df[sentiment_column].unique())\n",
    "\n",
    "# Drop rows where sentiment is 'neutral'\n",
    "df_filtered = df[df[sentiment_column] != 'neutral']\n",
    "\n",
    "# Display the first few rows of the filtered DataFrame\n",
    "print(\"Dataset after dropping the 'neutral' class:\")\n",
    "df_filtered.head()\n",
    "\n",
    "# Optionally, save the filtered dataset to a new CSV file\n",
    "filtered_data_path = \"data/filtered_data.csv\"  # Update as needed\n",
    "df_filtered.to_csv(filtered_data_path, index=False)\n",
    "print(f\"Filtered dataset saved to {filtered_data_path}\")\n"
   ],
   "id": "7cdb3c53359147f6",
   "outputs": [
    {
     "name": "stdout",
     "output_type": "stream",
     "text": [
      "Unique sentiment labels before filtering: ['positive' 'negative' 'neutral']\n",
      "Dataset after dropping the 'neutral' class:\n",
      "Filtered dataset saved to data/filtered_data.csv\n"
     ]
    }
   ],
   "execution_count": 4
  },
  {
   "metadata": {},
   "cell_type": "markdown",
   "source": "# Use the new dataset that is generated\n",
   "id": "635f0b1b59de6a5"
  },
  {
   "metadata": {
    "ExecuteTime": {
     "end_time": "2024-12-19T15:04:53.744742Z",
     "start_time": "2024-12-19T15:04:53.716744Z"
    }
   },
   "cell_type": "code",
   "source": [
    "data_path = \"data/filtered_data.csv\"  # Update the file name if it's different\n",
    "# Load the dataset\n",
    "df= pd.read_csv(data_path)\n",
    "print(\"Dataset loaded successfully!\")\n",
    "\n",
    "# Display the first few rows of the DataFrame\n",
    "df.head()\n",
    "\n"
   ],
   "id": "1d63117566e8f691",
   "outputs": [
    {
     "name": "stdout",
     "output_type": "stream",
     "text": [
      "Dataset loaded successfully!\n"
     ]
    },
    {
     "data": {
      "text/plain": [
       "                                            Sentence Sentiment\n",
       "0  The GeoSolutions technology will leverage Bene...  positive\n",
       "1  $ESI on lows, down $1.50 to $2.50 BK a real po...  negative\n",
       "2  For the last quarter of 2010 , Componenta 's n...  positive\n",
       "3    $SPY wouldn't be surprised to see a green close  positive\n",
       "4  Shell's $70 Billion BG Deal Meets Shareholder ...  negative"
      ],
      "text/html": [
       "<div>\n",
       "<style scoped>\n",
       "    .dataframe tbody tr th:only-of-type {\n",
       "        vertical-align: middle;\n",
       "    }\n",
       "\n",
       "    .dataframe tbody tr th {\n",
       "        vertical-align: top;\n",
       "    }\n",
       "\n",
       "    .dataframe thead th {\n",
       "        text-align: right;\n",
       "    }\n",
       "</style>\n",
       "<table border=\"1\" class=\"dataframe\">\n",
       "  <thead>\n",
       "    <tr style=\"text-align: right;\">\n",
       "      <th></th>\n",
       "      <th>Sentence</th>\n",
       "      <th>Sentiment</th>\n",
       "    </tr>\n",
       "  </thead>\n",
       "  <tbody>\n",
       "    <tr>\n",
       "      <th>0</th>\n",
       "      <td>The GeoSolutions technology will leverage Bene...</td>\n",
       "      <td>positive</td>\n",
       "    </tr>\n",
       "    <tr>\n",
       "      <th>1</th>\n",
       "      <td>$ESI on lows, down $1.50 to $2.50 BK a real po...</td>\n",
       "      <td>negative</td>\n",
       "    </tr>\n",
       "    <tr>\n",
       "      <th>2</th>\n",
       "      <td>For the last quarter of 2010 , Componenta 's n...</td>\n",
       "      <td>positive</td>\n",
       "    </tr>\n",
       "    <tr>\n",
       "      <th>3</th>\n",
       "      <td>$SPY wouldn't be surprised to see a green close</td>\n",
       "      <td>positive</td>\n",
       "    </tr>\n",
       "    <tr>\n",
       "      <th>4</th>\n",
       "      <td>Shell's $70 Billion BG Deal Meets Shareholder ...</td>\n",
       "      <td>negative</td>\n",
       "    </tr>\n",
       "  </tbody>\n",
       "</table>\n",
       "</div>"
      ]
     },
     "execution_count": 5,
     "metadata": {},
     "output_type": "execute_result"
    }
   ],
   "execution_count": 5
  },
  {
   "metadata": {},
   "cell_type": "markdown",
   "source": "# Perfrom EDA on the dataset to understand the distribution of classes",
   "id": "1d52716ef7479a89"
  },
  {
   "metadata": {
    "ExecuteTime": {
     "end_time": "2024-12-19T15:04:56.906653Z",
     "start_time": "2024-12-19T15:04:56.799557Z"
    }
   },
   "cell_type": "code",
   "source": [
    "# Perform Exploratory Data Analysis (EDA)\n",
    "def perform_eda(data):\n",
    "    # Check class distribution\n",
    "    print(\"Class distribution:\")\n",
    "    print(df['Sentiment'].value_counts())\n",
    "\n",
    "    # Text length analysis\n",
    "    df['text_length'] = df['Sentence'].apply(len)\n",
    "    print(\"\\nText length stats:\")\n",
    "    print(df['text_length'].describe())\n",
    "\n",
    "    # Visualize class distribution\n",
    "    df['Sentiment'].value_counts().plot(kind='bar', title=\"Class Distribution\")\n",
    "    plt.show()\n",
    "perform_eda(df)"
   ],
   "id": "b1fb2c867e374b8b",
   "outputs": [
    {
     "name": "stdout",
     "output_type": "stream",
     "text": [
      "Class distribution:\n",
      "Sentiment\n",
      "positive    1852\n",
      "negative     860\n",
      "Name: count, dtype: int64\n",
      "\n",
      "Text length stats:\n",
      "count    2712.000000\n",
      "mean      109.992257\n",
      "std        55.073596\n",
      "min        10.000000\n",
      "25%        67.000000\n",
      "50%        98.000000\n",
      "75%       140.000000\n",
      "max       298.000000\n",
      "Name: text_length, dtype: float64\n"
     ]
    },
    {
     "data": {
      "text/plain": [
       "<Figure size 640x480 with 1 Axes>"
      ],
      "image/png": "[encoded data removed]"
     },
     "metadata": {},
     "output_type": "display_data"
    }
   ],
   "execution_count": 6
  },
  {
   "metadata": {},
   "cell_type": "markdown",
   "source": [
    "# Preprocess the text data\n",
    "In this section we will preprocess the text data by performing the following steps:\n",
    "1. Remove extra whitespaces\n",
    "2. Remove HTML tags\n",
    "3. Remove URLs\n",
    "4. Decode HTML entities\n",
    "5. Replace stock tickers (e.g., $AAPL) with a special token 'STOCK'\n",
    "6. Handle currencies (e.g., $10k, €20)\n",
    "7. Remove space between digits and decimal points\n",
    "8. Remove space before or after a comma in large numbers\n",
    "9. Ensure that numbers with units (e.g., EUR 1.6 m) have no spaces\n",
    "10. Replace percentages\n",
    "11. Replace months, dates, years, and hours\n",
    "12. Remove special characters\n",
    "13. Tokenize the text\n",
    "14. Remove punctuation\n",
    "15. Remove stopwords\n",
    "16. Apply stemming\n",
    "17. Join tokens back into text"
   ],
   "id": "3d7a00657cde78bb"
  },
  {
   "metadata": {
    "ExecuteTime": {
     "end_time": "2024-12-19T15:05:03.331757Z",
     "start_time": "2024-12-19T15:05:02.427999Z"
    }
   },
   "cell_type": "code",
   "source": [
    "import nltk\n",
    "import re\n",
    "from nltk.tokenize import word_tokenize\n",
    "from nltk.corpus import stopwords\n",
    "from nltk.stem import PorterStemmer\n",
    "import html\n",
    "import string\n",
    "\n",
    "# Download necessary NLTK resources if not already done\n",
    "nltk.download('punkt')\n",
    "nltk.download('stopwords')\n",
    "nltk.download('wordnet')\n",
    "\n",
    "def clean_and_stem(text):\n",
    "    # Remove extra whitespaces\n",
    "    text = re.sub(r'\\s+', ' ', text)\n",
    "    # Remove HTML tags\n",
    "    text = re.sub(r'<.*?>', '', text)\n",
    "\n",
    "    # Remove URLs\n",
    "    text = re.sub(r'http\\S+|www\\S+|https\\S+', 'url', text)\n",
    "\n",
    "    # Decode HTML entities\n",
    "    text = html.unescape(text)\n",
    "\n",
    "    # Replace stock tickers with 'STOCK'\n",
    "    text = re.sub(r'\\$[A-Za-z]+', 'STOCK', text)\n",
    "\n",
    "    # Handle cases with currencies like USD, EUR, GBP, etc.\n",
    "    text = re.sub(r'(\\b(?:USD|EUR|GBP|INR|JPY|CAD|AUD|CHF|CNY|ZAR|SEK|NOK|¥|€|₹|£))\\s?(\\d+(\\,?\\d{3})*(\\.\\d{1,2})?)', r'\\1\\2', text)\n",
    "\n",
    "    # Remove space between digits and decimal points\n",
    "    text = re.sub(r'(\\d)\\s?\\.(\\d)', r'\\1.\\2', text)  # For cases like 1 .6 -> 1.6\n",
    "\n",
    "    # Remove space before or after a comma in large numbers like EUR1 ,000\n",
    "    text = re.sub(r'(\\d)\\s?,(\\d)', r'\\1,\\2', text)  # For cases like EUR1 ,000 -> EUR1,000\n",
    "\n",
    "    # Ensure that numbers with units (e.g., EUR 1.6 m) have no spaces\n",
    "    text = re.sub(r'(\\d)\\s?(billion|million|bn|mn|mln)', r'\\1\\2', text,flags=re.IGNORECASE)\n",
    "\n",
    "    pattern = r\"(?:(?:[\\$\\€\\¥\\£])\\s?\\d+(?:,\\d{3})*(?:\\.\\d+)?(?:\\s?(?:[kK]|[mM]illion|[bB]illion|[tT]housand|[mM][nNlL]?|[bB][nN]?)?)?)\"\n",
    "    text = re.sub(pattern, r\"value \", text)  # Add a space after \"money_value\"\n",
    "\n",
    "    pattern2 = r\"(?:USD|EUR|GBP|JPY|AUD|CAD)\\s?\\d+(?:,\\d{3})*(?:\\.\\d+)?(?:\\s?(?:[kK]|[mM]illion|[bB]illion|[tT]housand|[mM][nNlL]?|[bB][nN]?)?)\"\n",
    "    text = re.sub(pattern2, r\"value \", text)  # Add a space after \"money_value\"\n",
    "\n",
    "    # Replace percentages\n",
    "    text = re.sub(r'\\d+(\\.\\d+)?\\s?%|(\\d+(\\.\\d+)?\\s?percent)', 'percentage', text, flags=re.IGNORECASE)\n",
    "    # Replace months, dates, years, and hours\n",
    "    text = re.sub(r'\\b(Jan(?:uary)?|Feb(?:ruary)?|Mar(?:ch)?|Apr(?:il)?|May|Jun(?:e)?|Jul(?:y)?|Aug(?:ust)?|Sep(?:tember)?|Oct(?:ober)?|Nov(?:ember)?|Dec(?:ember)?)\\b', 'month', text)\n",
    "    text = re.sub(r'\\b\\d{4}\\b', 'year', text)\n",
    "    text = re.sub(r'\\b\\d{1,2}(st|nd|rd|th)\\b', 'date', text)\n",
    "    text = re.sub(r'\\b\\d{1,2}[:]\\d{2}\\b', 'hour', text)\n",
    "\n",
    "    text = re.sub(r\"[^a-zA-Z0-9\\s]\", \"\", text)\n",
    "    # Tokenize and clean up text\n",
    "    tokens = word_tokenize(text.lower())\n",
    "\n",
    "    # Remove punctuation\n",
    "    tokens = [word for word in tokens if word not in string.punctuation]\n",
    "\n",
    "    # Use custom stopwords\n",
    "    custom_stop_words = set(stopwords.words('english'))\n",
    "    tokens = [word for word in tokens if word not in custom_stop_words]\n",
    "\n",
    "    # Apply stemming\n",
    "    stemmer = PorterStemmer()\n",
    "    stemmed_tokens = [stemmer.stem(word) for word in tokens]\n",
    "\n",
    "    # Join tokens back into text\n",
    "    return ' '.join(stemmed_tokens)\n",
    "\n",
    "# Apply the cleaning function to the 'Sentence' column and create a new column 'cleaned_text'\n",
    "df['cleaned_text'] = df['Sentence'].apply(clean_and_stem)\n",
    "df.head(100)\n"
   ],
   "id": "627760ceb5bc94e6",
   "outputs": [
    {
     "name": "stderr",
     "output_type": "stream",
     "text": [
      "[nltk_data] Downloading package punkt to\n",
      "[nltk_data]     C:\\Users\\mateo\\AppData\\Roaming\\nltk_data...\n",
      "[nltk_data]   Package punkt is already up-to-date!\n",
      "[nltk_data] Downloading package stopwords to\n",
      "[nltk_data]     C:\\Users\\mateo\\AppData\\Roaming\\nltk_data...\n",
      "[nltk_data]   Package stopwords is already up-to-date!\n",
      "[nltk_data] Downloading package wordnet to\n",
      "[nltk_data]     C:\\Users\\mateo\\AppData\\Roaming\\nltk_data...\n",
      "[nltk_data]   Package wordnet is already up-to-date!\n"
     ]
    },
    {
     "data": {
      "text/plain": [
       "                                             Sentence Sentiment  text_length  \\\n",
       "0   The GeoSolutions technology will leverage Bene...  positive          218   \n",
       "1   $ESI on lows, down $1.50 to $2.50 BK a real po...  negative           55   \n",
       "2   For the last quarter of 2010 , Componenta 's n...  positive          193   \n",
       "3     $SPY wouldn't be surprised to see a green close  positive           47   \n",
       "4   Shell's $70 Billion BG Deal Meets Shareholder ...  negative           56   \n",
       "..                                                ...       ...          ...   \n",
       "95  The pretax profit of the group 's life insuran...  positive           91   \n",
       "96  RT @alphatrends VMarkets Are Still Acting Weak...  negative           92   \n",
       "97  One of the installed elevators will be a doubl...  positive          128   \n",
       "98                               Just went long $ILMN  positive           20   \n",
       "99  Johnson Matthey share price slumps as company ...  negative           69   \n",
       "\n",
       "                                         cleaned_text  \n",
       "0   geosolut technolog leverag benefon gp solut pr...  \n",
       "1                  stock low valu valu k real possibl  \n",
       "2   last quarter year componenta net sale doubl va...  \n",
       "3               stock wouldnt surpris see green close  \n",
       "4           shell valu bg deal meet sharehold skeptic  \n",
       "..                                                ...  \n",
       "95  pretax profit group life insur busi increas va...  \n",
       "96  rt alphatrend vmarket still act weak url stock...  \n",
       "97  one instal elev doubledeck elev enabl effici u...  \n",
       "98                                    went long stock  \n",
       "99  johnson matthey share price slump compani post...  \n",
       "\n",
       "[100 rows x 4 columns]"
      ],
      "text/html": [
       "<div>\n",
       "<style scoped>\n",
       "    .dataframe tbody tr th:only-of-type {\n",
       "        vertical-align: middle;\n",
       "    }\n",
       "\n",
       "    .dataframe tbody tr th {\n",
       "        vertical-align: top;\n",
       "    }\n",
       "\n",
       "    .dataframe thead th {\n",
       "        text-align: right;\n",
       "    }\n",
       "</style>\n",
       "<table border=\"1\" class=\"dataframe\">\n",
       "  <thead>\n",
       "    <tr style=\"text-align: right;\">\n",
       "      <th></th>\n",
       "      <th>Sentence</th>\n",
       "      <th>Sentiment</th>\n",
       "      <th>text_length</th>\n",
       "      <th>cleaned_text</th>\n",
       "    </tr>\n",
       "  </thead>\n",
       "  <tbody>\n",
       "    <tr>\n",
       "      <th>0</th>\n",
       "      <td>The GeoSolutions technology will leverage Bene...</td>\n",
       "      <td>positive</td>\n",
       "      <td>218</td>\n",
       "      <td>geosolut technolog leverag benefon gp solut pr...</td>\n",
       "    </tr>\n",
       "    <tr>\n",
       "      <th>1</th>\n",
       "      <td>$ESI on lows, down $1.50 to $2.50 BK a real po...</td>\n",
       "      <td>negative</td>\n",
       "      <td>55</td>\n",
       "      <td>stock low valu valu k real possibl</td>\n",
       "    </tr>\n",
       "    <tr>\n",
       "      <th>2</th>\n",
       "      <td>For the last quarter of 2010 , Componenta 's n...</td>\n",
       "      <td>positive</td>\n",
       "      <td>193</td>\n",
       "      <td>last quarter year componenta net sale doubl va...</td>\n",
       "    </tr>\n",
       "    <tr>\n",
       "      <th>3</th>\n",
       "      <td>$SPY wouldn't be surprised to see a green close</td>\n",
       "      <td>positive</td>\n",
       "      <td>47</td>\n",
       "      <td>stock wouldnt surpris see green close</td>\n",
       "    </tr>\n",
       "    <tr>\n",
       "      <th>4</th>\n",
       "      <td>Shell's $70 Billion BG Deal Meets Shareholder ...</td>\n",
       "      <td>negative</td>\n",
       "      <td>56</td>\n",
       "      <td>shell valu bg deal meet sharehold skeptic</td>\n",
       "    </tr>\n",
       "    <tr>\n",
       "      <th>...</th>\n",
       "      <td>...</td>\n",
       "      <td>...</td>\n",
       "      <td>...</td>\n",
       "      <td>...</td>\n",
       "    </tr>\n",
       "    <tr>\n",
       "      <th>95</th>\n",
       "      <td>The pretax profit of the group 's life insuran...</td>\n",
       "      <td>positive</td>\n",
       "      <td>91</td>\n",
       "      <td>pretax profit group life insur busi increas va...</td>\n",
       "    </tr>\n",
       "    <tr>\n",
       "      <th>96</th>\n",
       "      <td>RT @alphatrends VMarkets Are Still Acting Weak...</td>\n",
       "      <td>negative</td>\n",
       "      <td>92</td>\n",
       "      <td>rt alphatrend vmarket still act weak url stock...</td>\n",
       "    </tr>\n",
       "    <tr>\n",
       "      <th>97</th>\n",
       "      <td>One of the installed elevators will be a doubl...</td>\n",
       "      <td>positive</td>\n",
       "      <td>128</td>\n",
       "      <td>one instal elev doubledeck elev enabl effici u...</td>\n",
       "    </tr>\n",
       "    <tr>\n",
       "      <th>98</th>\n",
       "      <td>Just went long $ILMN</td>\n",
       "      <td>positive</td>\n",
       "      <td>20</td>\n",
       "      <td>went long stock</td>\n",
       "    </tr>\n",
       "    <tr>\n",
       "      <th>99</th>\n",
       "      <td>Johnson Matthey share price slumps as company ...</td>\n",
       "      <td>negative</td>\n",
       "      <td>69</td>\n",
       "      <td>johnson matthey share price slump compani post...</td>\n",
       "    </tr>\n",
       "  </tbody>\n",
       "</table>\n",
       "<p>100 rows × 4 columns</p>\n",
       "</div>"
      ]
     },
     "execution_count": 7,
     "metadata": {},
     "output_type": "execute_result"
    }
   ],
   "execution_count": 7
  },
  {
   "metadata": {},
   "cell_type": "markdown",
   "source": [
    "# Now we will split the data into training and testing sets\n",
    "we do this before resampling and feature extraction to avoid data leakage\n"
   ],
   "id": "49d680afa6175e59"
  },
  {
   "metadata": {
    "ExecuteTime": {
     "end_time": "2024-12-19T15:05:08.170358Z",
     "start_time": "2024-12-19T15:05:08.157178Z"
    }
   },
   "cell_type": "code",
   "source": [
    "from sklearn.model_selection import train_test_split\n",
    "\n",
    "# Assuming your dataset has 'cleaned_text' and 'sentiment' columns\n",
    "X = df['cleaned_text']\n",
    "y = df['Sentiment']\n",
    "\n",
    "# Stratified train-test split\n",
    "X_train, X_test, y_train, y_test = train_test_split(\n",
    "    X, y, test_size=0.2, random_state=42, stratify=y\n",
    ")\n"
   ],
   "id": "343d8500bec5689c",
   "outputs": [],
   "execution_count": 8
  },
  {
   "metadata": {},
   "cell_type": "markdown",
   "source": "# Resample the training data to address class imbalance",
   "id": "e7e6a655fe45412e"
  },
  {
   "metadata": {
    "ExecuteTime": {
     "end_time": "2024-12-19T15:05:49.912076Z",
     "start_time": "2024-12-19T15:05:49.670046Z"
    }
   },
   "cell_type": "code",
   "source": [
    "from imblearn.over_sampling import SMOTE\n",
    "from sklearn.feature_extraction.text import TfidfVectorizer\n",
    "from collections import Counter\n",
    "\n",
    "# Convert training text to numerical features (e.g., TF-IDF)\n",
    "tfidf_vectorizer = TfidfVectorizer(max_features=5000)\n",
    "X_train_tfidf = tfidf_vectorizer.fit_transform(X_train)\n",
    "\n",
    "# Visualize class distribution before resampling\n",
    "def plot_class_distribution(y_data, title, labels):\n",
    "    counts = Counter(y_data)\n",
    "    plt.figure(figsize=(6, 4))\n",
    "    plt.bar(counts.keys(), counts.values(), color=['skyblue', 'orange'])\n",
    "    plt.xticks(ticks=range(len(labels)), labels=labels)\n",
    "    plt.title(title)\n",
    "    plt.xlabel('Classes')\n",
    "    plt.ylabel('Frequency')\n",
    "    plt.show()\n",
    "\n",
    "# Plot before resampling\n",
    "plot_class_distribution(y_train, \"Class Distribution Before Resampling\", labels=['Negative', 'Positive'])\n",
    "\n",
    "# Apply SMOTE to balance the training data\n",
    "smote = SMOTE(random_state=42)\n",
    "X_train_resampled, y_train_resampled = smote.fit_resample(X_train_tfidf, y_train)\n",
    "\n",
    "# Plot after resampling\n",
    "plot_class_distribution(y_train_resampled, \"Class Distribution After Resampling\", labels=['Negative', 'Positive'])\n",
    "\n"
   ],
   "id": "e159ce713a92c7a2",
   "outputs": [
    {
     "data": {
      "text/plain": [
       "<Figure size 600x400 with 1 Axes>"
      ],
      "image/png": "[encoded data removed]"
     },
     "metadata": {},
     "output_type": "display_data"
    },
    {
     "name": "stderr",
     "output_type": "stream",
     "text": [
      "C:\\Users\\mateo\\anaconda3\\envs\\deeplearning\\lib\\site-packages\\sklearn\\base.py:474: FutureWarning: `BaseEstimator._validate_data` is deprecated in 1.6 and will be removed in 1.7. Use `sklearn.utils.validation.validate_data` instead. This function becomes public and is part of the scikit-learn developer API.\n",
      "  warnings.warn(\n",
      "C:\\Users\\mateo\\anaconda3\\envs\\deeplearning\\lib\\site-packages\\sklearn\\utils\\_tags.py:354: FutureWarning: The SMOTE or classes from which it inherits use `_get_tags` and `_more_tags`. Please define the `__sklearn_tags__` method, or inherit from `sklearn.base.BaseEstimator` and/or other appropriate mixins such as `sklearn.base.TransformerMixin`, `sklearn.base.ClassifierMixin`, `sklearn.base.RegressorMixin`, and `sklearn.base.OutlierMixin`. From scikit-learn 1.7, not defining `__sklearn_tags__` will raise an error.\n",
      "  warnings.warn(\n"
     ]
    },
    {
     "data": {
      "text/plain": [
       "<Figure size 600x400 with 1 Axes>"
      ],
      "image/png": "[encoded data removed]"
     },
     "metadata": {},
     "output_type": "display_data"
    }
   ],
   "execution_count": 10
  },
  {
   "metadata": {},
   "cell_type": "markdown",
   "source": [
    "# Now we prepare the test data by transforming it using the same vectorizer\n",
    "this will ensure that the test data is in the same format as the training data"
   ],
   "id": "6f4475b8272f74f3"
  },
  {
   "metadata": {
    "ExecuteTime": {
     "end_time": "2024-12-19T15:43:32.076452Z",
     "start_time": "2024-12-19T15:43:32.067955Z"
    }
   },
   "cell_type": "code",
   "source": [
    "# Transform the test set using the same TF-IDF vectorizer\n",
    "X_test_tfidf = tfidf_vectorizer.transform(X_test)"
   ],
   "id": "a0db6f617f1d031",
   "outputs": [],
   "execution_count": 29
  },
  {
   "metadata": {},
   "cell_type": "markdown",
   "source": [
    "# Now we will train the Ml models on the resampled data and evaluate them on the test set\n",
    "The first model is Logistic Regression and the second one is SVM"
   ],
   "id": "7eb5d33a9af8f6d0"
  },
  {
   "metadata": {},
   "cell_type": "markdown",
   "source": "# Logistic Regression",
   "id": "5fa761592a48ce8d"
  },
  {
   "metadata": {
    "ExecuteTime": {
     "end_time": "2024-12-19T15:05:57.624623Z",
     "start_time": "2024-12-19T15:05:57.507091Z"
    }
   },
   "cell_type": "code",
   "source": [
    "import matplotlib.pyplot as plt\n",
    "import seaborn as sns\n",
    "from sklearn.linear_model import LogisticRegression\n",
    "from sklearn.metrics import classification_report, confusion_matrix, f1_score, accuracy_score\n",
    "\n",
    "# Train a Logistic Regression model\n",
    "lr_model = LogisticRegression(max_iter=1000, class_weight='balanced', random_state=42)\n",
    "lr_model.fit(X_train_resampled, y_train_resampled)\n",
    "\n",
    "# Predict on the test data\n",
    "y_pred_lr = lr_model.predict(X_test_tfidf)\n",
    "\n",
    "# Evaluate the model\n",
    "print(\"Classification Report:\\n\", classification_report(y_test, y_pred_lr))\n",
    "f1 = f1_score(y_test, y_pred_lr, average='weighted')\n",
    "accuracy = accuracy_score(y_test, y_pred_lr)\n",
    "print(f\"F1 Score (Weighted): {f1:.4f}\")\n",
    "print(f\"Accuracy: {accuracy:.4f}\")\n",
    "\n",
    "# Confusion matrix\n",
    "cm = confusion_matrix(y_test, y_pred_lr)\n",
    "labels = ['Negative', 'Positive']  # Adjust based on your dataset's class names\n",
    "\n",
    "# Plot the confusion matrix\n",
    "plt.figure(figsize=(6, 4))\n",
    "sns.heatmap(cm, annot=True, fmt='d', cmap='Blues', xticklabels=labels, yticklabels=labels)\n",
    "plt.title('Confusion Matrix')\n",
    "plt.xlabel('Predicted Label')\n",
    "plt.ylabel('True Label')\n",
    "plt.show()\n"
   ],
   "id": "b0ec6c221ba9bce2",
   "outputs": [
    {
     "name": "stdout",
     "output_type": "stream",
     "text": [
      "Classification Report:\n",
      "               precision    recall  f1-score   support\n",
      "\n",
      "    negative       0.70      0.70      0.70       172\n",
      "    positive       0.86      0.86      0.86       371\n",
      "\n",
      "    accuracy                           0.81       543\n",
      "   macro avg       0.78      0.78      0.78       543\n",
      "weighted avg       0.81      0.81      0.81       543\n",
      "\n",
      "F1 Score (Weighted): 0.8122\n",
      "Accuracy: 0.8122\n"
     ]
    },
    {
     "data": {
      "text/plain": [
       "<Figure size 600x400 with 2 Axes>"
      ],
      "image/png": "[encoded data removed]"
     },
     "metadata": {},
     "output_type": "display_data"
    }
   ],
   "execution_count": 12
  },
  {
   "metadata": {},
   "cell_type": "markdown",
   "source": "# SVM\n",
   "id": "da381acdaacc6193"
  },
  {
   "metadata": {
    "ExecuteTime": {
     "end_time": "2024-12-19T15:06:03.352691Z",
     "start_time": "2024-12-19T15:06:00.906736Z"
    }
   },
   "cell_type": "code",
   "source": [
    "from sklearn.svm import SVC\n",
    "from sklearn.metrics import classification_report, confusion_matrix, f1_score, accuracy_score\n",
    "\n",
    "# Train an SVM model\n",
    "svm_model = SVC(kernel='linear', class_weight='balanced', random_state=42,probability=True)\n",
    "svm_model.fit(X_train_resampled, y_train_resampled)\n",
    "\n",
    "# Predict on the test data\n",
    "y_pred_svm = svm_model.predict(X_test_tfidf)\n",
    "\n",
    "# Evaluate the model\n",
    "print(\"Classification Report:\\n\", classification_report(y_test, y_pred_svm))\n",
    "f1 = f1_score(y_test, y_pred_svm, average='weighted')\n",
    "accuracy = accuracy_score(y_test, y_pred_svm)\n",
    "print(f\"F1 Score (Weighted): {f1:.4f}\")\n",
    "print(f\"Accuracy: {accuracy:.4f}\")\n",
    "\n",
    "# Confusion matrix\n",
    "cm = confusion_matrix(y_test, y_pred_svm)\n",
    "labels = ['Negative', 'Positive']  # Adjust based on your dataset's class names\n",
    "\n",
    "# Plot the confusion matrix\n",
    "plt.figure(figsize=(6, 4))\n",
    "sns.heatmap(cm, annot=True, fmt='d', cmap='Blues', xticklabels=labels, yticklabels=labels)\n",
    "plt.title('Confusion Matrix')\n",
    "plt.xlabel('Predicted Label')\n",
    "plt.ylabel('True Label')\n",
    "plt.show()\n"
   ],
   "id": "978d51944af71df1",
   "outputs": [
    {
     "name": "stdout",
     "output_type": "stream",
     "text": [
      "Classification Report:\n",
      "               precision    recall  f1-score   support\n",
      "\n",
      "    negative       0.67      0.70      0.69       172\n",
      "    positive       0.86      0.84      0.85       371\n",
      "\n",
      "    accuracy                           0.80       543\n",
      "   macro avg       0.76      0.77      0.77       543\n",
      "weighted avg       0.80      0.80      0.80       543\n",
      "\n",
      "F1 Score (Weighted): 0.7969\n",
      "Accuracy: 0.7956\n"
     ]
    },
    {
     "data": {
      "text/plain": [
       "<Figure size 600x400 with 2 Axes>"
      ],
      "image/png": "[encoded data removed]"
     },
     "metadata": {},
     "output_type": "display_data"
    }
   ],
   "execution_count": 13
  },
  {
   "metadata": {},
   "cell_type": "markdown",
   "source": "# ROC curve for the models and AUC scores for both models to compare their performance\n",
   "id": "bd74c3d333d824b9"
  },
  {
   "metadata": {
    "ExecuteTime": {
     "end_time": "2024-12-19T15:06:07.195140Z",
     "start_time": "2024-12-19T15:06:07.013885Z"
    }
   },
   "cell_type": "code",
   "source": [
    "from sklearn.metrics import roc_curve, roc_auc_score\n",
    "import matplotlib.pyplot as plt\n",
    "from sklearn.preprocessing import LabelEncoder\n",
    "\n",
    "# Encode the sentiment labels (positive and negative) into numeric values\n",
    "label_encoder = LabelEncoder()\n",
    "y_train_encoded = label_encoder.fit_transform(y_train)  # 'positive' to 1 and 'negative' to 0\n",
    "y_test_encoded = label_encoder.transform(y_test)  # Apply same transformation to test labels\n",
    "\n",
    "# For Logistic Regression (using lr_model)\n",
    "y_probs_lr_model = lr_model.predict_proba(X_test_tfidf)  # Probabilities for both classes\n",
    "y_probs_lr_model_pos = y_probs_lr_model[:, 1]  # Probabilities for positive sentiment (class 1)\n",
    "\n",
    "# For SVM (ensure you have set probability=True during model initialization)\n",
    "y_probs_svm = svm_model.predict_proba(X_test_tfidf)  # Probabilities for both classes\n",
    "y_probs_svm_pos = y_probs_svm[:, 1]  # Probabilities for positive sentiment (class 1)\n",
    "\n",
    "# Compute ROC curve for Logistic Regression\n",
    "fpr_lr_model, tpr_lr_model, _ = roc_curve(y_test_encoded, y_probs_lr_model_pos)\n",
    "# Compute ROC curve for SVM\n",
    "fpr_svm, tpr_svm, _ = roc_curve(y_test_encoded, y_probs_svm_pos)\n",
    "\n",
    "# Compute AUC for Logistic Regression\n",
    "auc_lr_model = roc_auc_score(y_test_encoded, y_probs_lr_model_pos)\n",
    "# Compute AUC for SVM\n",
    "auc_svm = roc_auc_score(y_test_encoded, y_probs_svm_pos)\n",
    "\n",
    "# Plot ROC curve for both models\n",
    "plt.figure(figsize=(10, 6))\n",
    "\n",
    "# Plot ROC curve for Logistic Regression\n",
    "plt.plot(fpr_lr_model, tpr_lr_model, label=f\"Logistic Regression (AUC = {auc_lr_model:.4f})\", color=\"blue\")\n",
    "\n",
    "# Plot ROC curve for SVM\n",
    "plt.plot(fpr_svm, tpr_svm, label=f\"SVM (AUC = {auc_svm:.4f})\", color=\"red\")\n",
    "\n",
    "# Plot diagonal line representing random classifier\n",
    "plt.plot([0, 1], [0, 1], linestyle=\"--\", color=\"gray\", label=\"Random Guess\")\n",
    "\n",
    "plt.title(\"ROC Curve for Logistic Regression and SVM\")\n",
    "plt.xlabel(\"False Positive Rate (FPR)\")\n",
    "plt.ylabel(\"True Positive Rate (TPR)\")\n",
    "plt.legend()\n",
    "plt.grid(True)\n",
    "\n",
    "# Show the plot\n",
    "plt.tight_layout()\n",
    "plt.show()\n",
    "\n",
    "# Print AUC Scores for both models\n",
    "print(f\"AUC for Logistic Regression: {auc_lr_model:.4f}\")\n",
    "print(f\"AUC for SVM: {auc_svm:.4f}\")\n"
   ],
   "id": "58efd0f1be5316c3",
   "outputs": [
    {
     "data": {
      "text/plain": [
       "<Figure size 1000x600 with 1 Axes>"
      ],
      "image/png": "[encoded data removed]"
     },
     "metadata": {},
     "output_type": "display_data"
    },
    {
     "name": "stdout",
     "output_type": "stream",
     "text": [
      "AUC for Logistic Regression: 0.8737\n",
      "AUC for SVM: 0.8661\n"
     ]
    }
   ],
   "execution_count": 14
  },
  {
   "metadata": {},
   "cell_type": "markdown",
   "source": [
    "# Now we will use cross-validation to evaluate the models and compare their performance\n",
    "We will use stratified K-Fold cross-validation with 15 folds we will begin with Logistic Regression"
   ],
   "id": "dd1aa61f877d4df1"
  },
  {
   "metadata": {
    "ExecuteTime": {
     "end_time": "2024-12-19T15:06:20.106388Z",
     "start_time": "2024-12-19T15:06:19.189141Z"
    }
   },
   "cell_type": "code",
   "source": [
    "from sklearn.model_selection import StratifiedKFold\n",
    "from sklearn.metrics import classification_report, precision_recall_fscore_support\n",
    "import numpy as np\n",
    "\n",
    "\n",
    "# Stratified K-Folds Cross Validation\n",
    "skf = StratifiedKFold(n_splits=15, shuffle=True, random_state=42)\n",
    "\n",
    "# Store the metrics across folds\n",
    "precisions = []\n",
    "recalls = []\n",
    "f1_scores = []\n",
    "accuracies = []\n",
    "\n",
    "# Loop over each fold\n",
    "for train_index, val_index in skf.split(X, y):\n",
    "    # Split data into train and validation sets\n",
    "    X_train, X_val = X.iloc[train_index], X.iloc[val_index]\n",
    "    y_train, y_val = y.iloc[train_index], y.iloc[val_index]\n",
    "\n",
    "    # Transform text data into TF-IDF features\n",
    "    X_train_tfidf = tfidf_vectorizer.fit_transform(X_train)\n",
    "    X_val_tfidf = tfidf_vectorizer.transform(X_val)\n",
    "\n",
    "    # Resample the training data using SMOTE\n",
    "    X_train_resampled, y_train_resampled = smote.fit_resample(X_train_tfidf, y_train)\n",
    "\n",
    "    # Train the Logistic Regression model\n",
    "    lr_model.fit(X_train_resampled, y_train_resampled)\n",
    "\n",
    "    # Make predictions on the validation data\n",
    "    y_pred = lr_model.predict(X_val_tfidf)\n",
    "\n",
    "    # Calculate precision, recall, F1-score, and accuracy for this fold\n",
    "    precision, recall, f1, _ = precision_recall_fscore_support(y_val, y_pred, average='binary', pos_label='positive')\n",
    "    accuracy = np.mean(y_pred == y_val)\n",
    "\n",
    "    # Store the metrics\n",
    "    precisions.append(precision)\n",
    "    recalls.append(recall)\n",
    "    f1_scores.append(f1)\n",
    "    accuracies.append(accuracy)\n",
    "\n",
    "# Calculate the average of each metric\n",
    "avg_precision = np.mean(precisions)\n",
    "avg_recall = np.mean(recalls)\n",
    "avg_f1 = np.mean(f1_scores)\n",
    "avg_accuracy = np.mean(accuracies)\n",
    "\n",
    "# Print the results\n",
    "print(f\"Average Precision: {avg_precision:.4f}\")\n",
    "print(f\"Average Recall: {avg_recall:.4f}\")\n",
    "print(f\"Average F1-Score (Weighted): {avg_f1:.4f}\")\n",
    "print(f\"Average Accuracy: {avg_accuracy:.4f}\")\n",
    "\n"
   ],
   "id": "4fb31600b9228e2a",
   "outputs": [
    {
     "name": "stderr",
     "output_type": "stream",
     "text": [
      "C:\\Users\\mateo\\anaconda3\\envs\\deeplearning\\lib\\site-packages\\sklearn\\base.py:474: FutureWarning: `BaseEstimator._validate_data` is deprecated in 1.6 and will be removed in 1.7. Use `sklearn.utils.validation.validate_data` instead. This function becomes public and is part of the scikit-learn developer API.\n",
      "  warnings.warn(\n",
      "C:\\Users\\mateo\\anaconda3\\envs\\deeplearning\\lib\\site-packages\\sklearn\\utils\\_tags.py:354: FutureWarning: The SMOTE or classes from which it inherits use `_get_tags` and `_more_tags`. Please define the `__sklearn_tags__` method, or inherit from `sklearn.base.BaseEstimator` and/or other appropriate mixins such as `sklearn.base.TransformerMixin`, `sklearn.base.ClassifierMixin`, `sklearn.base.RegressorMixin`, and `sklearn.base.OutlierMixin`. From scikit-learn 1.7, not defining `__sklearn_tags__` will raise an error.\n",
      "  warnings.warn(\n",
      "C:\\Users\\mateo\\anaconda3\\envs\\deeplearning\\lib\\site-packages\\sklearn\\base.py:474: FutureWarning: `BaseEstimator._validate_data` is deprecated in 1.6 and will be removed in 1.7. Use `sklearn.utils.validation.validate_data` instead. This function becomes public and is part of the scikit-learn developer API.\n",
      "  warnings.warn(\n",
      "C:\\Users\\mateo\\anaconda3\\envs\\deeplearning\\lib\\site-packages\\sklearn\\utils\\_tags.py:354: FutureWarning: The SMOTE or classes from which it inherits use `_get_tags` and `_more_tags`. Please define the `__sklearn_tags__` method, or inherit from `sklearn.base.BaseEstimator` and/or other appropriate mixins such as `sklearn.base.TransformerMixin`, `sklearn.base.ClassifierMixin`, `sklearn.base.RegressorMixin`, and `sklearn.base.OutlierMixin`. From scikit-learn 1.7, not defining `__sklearn_tags__` will raise an error.\n",
      "  warnings.warn(\n",
      "C:\\Users\\mateo\\anaconda3\\envs\\deeplearning\\lib\\site-packages\\sklearn\\base.py:474: FutureWarning: `BaseEstimator._validate_data` is deprecated in 1.6 and will be removed in 1.7. Use `sklearn.utils.validation.validate_data` instead. This function becomes public and is part of the scikit-learn developer API.\n",
      "  warnings.warn(\n",
      "C:\\Users\\mateo\\anaconda3\\envs\\deeplearning\\lib\\site-packages\\sklearn\\utils\\_tags.py:354: FutureWarning: The SMOTE or classes from which it inherits use `_get_tags` and `_more_tags`. Please define the `__sklearn_tags__` method, or inherit from `sklearn.base.BaseEstimator` and/or other appropriate mixins such as `sklearn.base.TransformerMixin`, `sklearn.base.ClassifierMixin`, `sklearn.base.RegressorMixin`, and `sklearn.base.OutlierMixin`. From scikit-learn 1.7, not defining `__sklearn_tags__` will raise an error.\n",
      "  warnings.warn(\n",
      "C:\\Users\\mateo\\anaconda3\\envs\\deeplearning\\lib\\site-packages\\sklearn\\base.py:474: FutureWarning: `BaseEstimator._validate_data` is deprecated in 1.6 and will be removed in 1.7. Use `sklearn.utils.validation.validate_data` instead. This function becomes public and is part of the scikit-learn developer API.\n",
      "  warnings.warn(\n",
      "C:\\Users\\mateo\\anaconda3\\envs\\deeplearning\\lib\\site-packages\\sklearn\\utils\\_tags.py:354: FutureWarning: The SMOTE or classes from which it inherits use `_get_tags` and `_more_tags`. Please define the `__sklearn_tags__` method, or inherit from `sklearn.base.BaseEstimator` and/or other appropriate mixins such as `sklearn.base.TransformerMixin`, `sklearn.base.ClassifierMixin`, `sklearn.base.RegressorMixin`, and `sklearn.base.OutlierMixin`. From scikit-learn 1.7, not defining `__sklearn_tags__` will raise an error.\n",
      "  warnings.warn(\n",
      "C:\\Users\\mateo\\anaconda3\\envs\\deeplearning\\lib\\site-packages\\sklearn\\base.py:474: FutureWarning: `BaseEstimator._validate_data` is deprecated in 1.6 and will be removed in 1.7. Use `sklearn.utils.validation.validate_data` instead. This function becomes public and is part of the scikit-learn developer API.\n",
      "  warnings.warn(\n",
      "C:\\Users\\mateo\\anaconda3\\envs\\deeplearning\\lib\\site-packages\\sklearn\\utils\\_tags.py:354: FutureWarning: The SMOTE or classes from which it inherits use `_get_tags` and `_more_tags`. Please define the `__sklearn_tags__` method, or inherit from `sklearn.base.BaseEstimator` and/or other appropriate mixins such as `sklearn.base.TransformerMixin`, `sklearn.base.ClassifierMixin`, `sklearn.base.RegressorMixin`, and `sklearn.base.OutlierMixin`. From scikit-learn 1.7, not defining `__sklearn_tags__` will raise an error.\n",
      "  warnings.warn(\n",
      "C:\\Users\\mateo\\anaconda3\\envs\\deeplearning\\lib\\site-packages\\sklearn\\base.py:474: FutureWarning: `BaseEstimator._validate_data` is deprecated in 1.6 and will be removed in 1.7. Use `sklearn.utils.validation.validate_data` instead. This function becomes public and is part of the scikit-learn developer API.\n",
      "  warnings.warn(\n",
      "C:\\Users\\mateo\\anaconda3\\envs\\deeplearning\\lib\\site-packages\\sklearn\\utils\\_tags.py:354: FutureWarning: The SMOTE or classes from which it inherits use `_get_tags` and `_more_tags`. Please define the `__sklearn_tags__` method, or inherit from `sklearn.base.BaseEstimator` and/or other appropriate mixins such as `sklearn.base.TransformerMixin`, `sklearn.base.ClassifierMixin`, `sklearn.base.RegressorMixin`, and `sklearn.base.OutlierMixin`. From scikit-learn 1.7, not defining `__sklearn_tags__` will raise an error.\n",
      "  warnings.warn(\n",
      "C:\\Users\\mateo\\anaconda3\\envs\\deeplearning\\lib\\site-packages\\sklearn\\base.py:474: FutureWarning: `BaseEstimator._validate_data` is deprecated in 1.6 and will be removed in 1.7. Use `sklearn.utils.validation.validate_data` instead. This function becomes public and is part of the scikit-learn developer API.\n",
      "  warnings.warn(\n",
      "C:\\Users\\mateo\\anaconda3\\envs\\deeplearning\\lib\\site-packages\\sklearn\\utils\\_tags.py:354: FutureWarning: The SMOTE or classes from which it inherits use `_get_tags` and `_more_tags`. Please define the `__sklearn_tags__` method, or inherit from `sklearn.base.BaseEstimator` and/or other appropriate mixins such as `sklearn.base.TransformerMixin`, `sklearn.base.ClassifierMixin`, `sklearn.base.RegressorMixin`, and `sklearn.base.OutlierMixin`. From scikit-learn 1.7, not defining `__sklearn_tags__` will raise an error.\n",
      "  warnings.warn(\n",
      "C:\\Users\\mateo\\anaconda3\\envs\\deeplearning\\lib\\site-packages\\sklearn\\base.py:474: FutureWarning: `BaseEstimator._validate_data` is deprecated in 1.6 and will be removed in 1.7. Use `sklearn.utils.validation.validate_data` instead. This function becomes public and is part of the scikit-learn developer API.\n",
      "  warnings.warn(\n",
      "C:\\Users\\mateo\\anaconda3\\envs\\deeplearning\\lib\\site-packages\\sklearn\\utils\\_tags.py:354: FutureWarning: The SMOTE or classes from which it inherits use `_get_tags` and `_more_tags`. Please define the `__sklearn_tags__` method, or inherit from `sklearn.base.BaseEstimator` and/or other appropriate mixins such as `sklearn.base.TransformerMixin`, `sklearn.base.ClassifierMixin`, `sklearn.base.RegressorMixin`, and `sklearn.base.OutlierMixin`. From scikit-learn 1.7, not defining `__sklearn_tags__` will raise an error.\n",
      "  warnings.warn(\n",
      "C:\\Users\\mateo\\anaconda3\\envs\\deeplearning\\lib\\site-packages\\sklearn\\base.py:474: FutureWarning: `BaseEstimator._validate_data` is deprecated in 1.6 and will be removed in 1.7. Use `sklearn.utils.validation.validate_data` instead. This function becomes public and is part of the scikit-learn developer API.\n",
      "  warnings.warn(\n",
      "C:\\Users\\mateo\\anaconda3\\envs\\deeplearning\\lib\\site-packages\\sklearn\\utils\\_tags.py:354: FutureWarning: The SMOTE or classes from which it inherits use `_get_tags` and `_more_tags`. Please define the `__sklearn_tags__` method, or inherit from `sklearn.base.BaseEstimator` and/or other appropriate mixins such as `sklearn.base.TransformerMixin`, `sklearn.base.ClassifierMixin`, `sklearn.base.RegressorMixin`, and `sklearn.base.OutlierMixin`. From scikit-learn 1.7, not defining `__sklearn_tags__` will raise an error.\n",
      "  warnings.warn(\n",
      "C:\\Users\\mateo\\anaconda3\\envs\\deeplearning\\lib\\site-packages\\sklearn\\base.py:474: FutureWarning: `BaseEstimator._validate_data` is deprecated in 1.6 and will be removed in 1.7. Use `sklearn.utils.validation.validate_data` instead. This function becomes public and is part of the scikit-learn developer API.\n",
      "  warnings.warn(\n",
      "C:\\Users\\mateo\\anaconda3\\envs\\deeplearning\\lib\\site-packages\\sklearn\\utils\\_tags.py:354: FutureWarning: The SMOTE or classes from which it inherits use `_get_tags` and `_more_tags`. Please define the `__sklearn_tags__` method, or inherit from `sklearn.base.BaseEstimator` and/or other appropriate mixins such as `sklearn.base.TransformerMixin`, `sklearn.base.ClassifierMixin`, `sklearn.base.RegressorMixin`, and `sklearn.base.OutlierMixin`. From scikit-learn 1.7, not defining `__sklearn_tags__` will raise an error.\n",
      "  warnings.warn(\n",
      "C:\\Users\\mateo\\anaconda3\\envs\\deeplearning\\lib\\site-packages\\sklearn\\base.py:474: FutureWarning: `BaseEstimator._validate_data` is deprecated in 1.6 and will be removed in 1.7. Use `sklearn.utils.validation.validate_data` instead. This function becomes public and is part of the scikit-learn developer API.\n",
      "  warnings.warn(\n",
      "C:\\Users\\mateo\\anaconda3\\envs\\deeplearning\\lib\\site-packages\\sklearn\\utils\\_tags.py:354: FutureWarning: The SMOTE or classes from which it inherits use `_get_tags` and `_more_tags`. Please define the `__sklearn_tags__` method, or inherit from `sklearn.base.BaseEstimator` and/or other appropriate mixins such as `sklearn.base.TransformerMixin`, `sklearn.base.ClassifierMixin`, `sklearn.base.RegressorMixin`, and `sklearn.base.OutlierMixin`. From scikit-learn 1.7, not defining `__sklearn_tags__` will raise an error.\n",
      "  warnings.warn(\n",
      "C:\\Users\\mateo\\anaconda3\\envs\\deeplearning\\lib\\site-packages\\sklearn\\base.py:474: FutureWarning: `BaseEstimator._validate_data` is deprecated in 1.6 and will be removed in 1.7. Use `sklearn.utils.validation.validate_data` instead. This function becomes public and is part of the scikit-learn developer API.\n",
      "  warnings.warn(\n",
      "C:\\Users\\mateo\\anaconda3\\envs\\deeplearning\\lib\\site-packages\\sklearn\\utils\\_tags.py:354: FutureWarning: The SMOTE or classes from which it inherits use `_get_tags` and `_more_tags`. Please define the `__sklearn_tags__` method, or inherit from `sklearn.base.BaseEstimator` and/or other appropriate mixins such as `sklearn.base.TransformerMixin`, `sklearn.base.ClassifierMixin`, `sklearn.base.RegressorMixin`, and `sklearn.base.OutlierMixin`. From scikit-learn 1.7, not defining `__sklearn_tags__` will raise an error.\n",
      "  warnings.warn(\n"
     ]
    },
    {
     "name": "stdout",
     "output_type": "stream",
     "text": [
      "Average Precision: 0.8630\n",
      "Average Recall: 0.8774\n",
      "Average F1-Score (Weighted): 0.8699\n",
      "Average Accuracy: 0.8208\n"
     ]
    },
    {
     "name": "stderr",
     "output_type": "stream",
     "text": [
      "C:\\Users\\mateo\\anaconda3\\envs\\deeplearning\\lib\\site-packages\\sklearn\\base.py:474: FutureWarning: `BaseEstimator._validate_data` is deprecated in 1.6 and will be removed in 1.7. Use `sklearn.utils.validation.validate_data` instead. This function becomes public and is part of the scikit-learn developer API.\n",
      "  warnings.warn(\n",
      "C:\\Users\\mateo\\anaconda3\\envs\\deeplearning\\lib\\site-packages\\sklearn\\utils\\_tags.py:354: FutureWarning: The SMOTE or classes from which it inherits use `_get_tags` and `_more_tags`. Please define the `__sklearn_tags__` method, or inherit from `sklearn.base.BaseEstimator` and/or other appropriate mixins such as `sklearn.base.TransformerMixin`, `sklearn.base.ClassifierMixin`, `sklearn.base.RegressorMixin`, and `sklearn.base.OutlierMixin`. From scikit-learn 1.7, not defining `__sklearn_tags__` will raise an error.\n",
      "  warnings.warn(\n",
      "C:\\Users\\mateo\\anaconda3\\envs\\deeplearning\\lib\\site-packages\\sklearn\\base.py:474: FutureWarning: `BaseEstimator._validate_data` is deprecated in 1.6 and will be removed in 1.7. Use `sklearn.utils.validation.validate_data` instead. This function becomes public and is part of the scikit-learn developer API.\n",
      "  warnings.warn(\n",
      "C:\\Users\\mateo\\anaconda3\\envs\\deeplearning\\lib\\site-packages\\sklearn\\utils\\_tags.py:354: FutureWarning: The SMOTE or classes from which it inherits use `_get_tags` and `_more_tags`. Please define the `__sklearn_tags__` method, or inherit from `sklearn.base.BaseEstimator` and/or other appropriate mixins such as `sklearn.base.TransformerMixin`, `sklearn.base.ClassifierMixin`, `sklearn.base.RegressorMixin`, and `sklearn.base.OutlierMixin`. From scikit-learn 1.7, not defining `__sklearn_tags__` will raise an error.\n",
      "  warnings.warn(\n",
      "C:\\Users\\mateo\\anaconda3\\envs\\deeplearning\\lib\\site-packages\\sklearn\\base.py:474: FutureWarning: `BaseEstimator._validate_data` is deprecated in 1.6 and will be removed in 1.7. Use `sklearn.utils.validation.validate_data` instead. This function becomes public and is part of the scikit-learn developer API.\n",
      "  warnings.warn(\n",
      "C:\\Users\\mateo\\anaconda3\\envs\\deeplearning\\lib\\site-packages\\sklearn\\utils\\_tags.py:354: FutureWarning: The SMOTE or classes from which it inherits use `_get_tags` and `_more_tags`. Please define the `__sklearn_tags__` method, or inherit from `sklearn.base.BaseEstimator` and/or other appropriate mixins such as `sklearn.base.TransformerMixin`, `sklearn.base.ClassifierMixin`, `sklearn.base.RegressorMixin`, and `sklearn.base.OutlierMixin`. From scikit-learn 1.7, not defining `__sklearn_tags__` will raise an error.\n",
      "  warnings.warn(\n"
     ]
    }
   ],
   "execution_count": 16
  },
  {
   "metadata": {},
   "cell_type": "markdown",
   "source": "# Now we will perform cross-validation for SVM",
   "id": "a7d41af000f94544"
  },
  {
   "metadata": {
    "ExecuteTime": {
     "end_time": "2024-12-19T15:07:14.722296Z",
     "start_time": "2024-12-19T15:06:29.531436Z"
    }
   },
   "cell_type": "code",
   "source": [
    "# Stratified K-Folds Cross Validation\n",
    "skf = StratifiedKFold(n_splits=15, shuffle=True, random_state=42)\n",
    "\n",
    "# Store the metrics across folds\n",
    "precisions = []\n",
    "recalls = []\n",
    "f1_scores = []\n",
    "accuracies = []\n",
    "\n",
    "# Loop over each fold\n",
    "for train_index, val_index in skf.split(X, y):\n",
    "    # Split data into train and validation sets\n",
    "    X_train, X_val = X.iloc[train_index], X.iloc[val_index]\n",
    "    y_train, y_val = y.iloc[train_index], y.iloc[val_index]\n",
    "\n",
    "    # Transform text data into TF-IDF features\n",
    "    X_train_tfidf = tfidf_vectorizer.fit_transform(X_train)\n",
    "    X_val_tfidf = tfidf_vectorizer.transform(X_val)\n",
    "\n",
    "    # Resample the training data using SMOTE\n",
    "    X_train_resampled, y_train_resampled = smote.fit_resample(X_train_tfidf, y_train)\n",
    "\n",
    "    # Train the SVM model\n",
    "    svm_model.fit(X_train_resampled, y_train_resampled)\n",
    "\n",
    "    # Make predictions on the validation data\n",
    "    y_pred = svm_model.predict(X_val_tfidf)\n",
    "\n",
    "    # Calculate precision, recall, F1-score, and accuracy for this fold (with weighted average for F1)\n",
    "    precision, recall, f1, _ = precision_recall_fscore_support(y_val, y_pred, average='weighted')\n",
    "    accuracy = np.mean(y_pred == y_val)\n",
    "\n",
    "    # Store the metrics\n",
    "    precisions.append(precision)\n",
    "    recalls.append(recall)\n",
    "    f1_scores.append(f1)\n",
    "    accuracies.append(accuracy)\n",
    "\n",
    "# Calculate the average of each metric\n",
    "avg_precision = np.mean(precisions)\n",
    "avg_recall = np.mean(recalls)\n",
    "avg_f1 = np.mean(f1_scores)\n",
    "avg_accuracy = np.mean(accuracies)\n",
    "\n",
    "# Print the results\n",
    "print(f\"Average Precision: {avg_precision:.4f}\")\n",
    "print(f\"Average Recall: {avg_recall:.4f}\")\n",
    "print(f\"Average F1-Score (Weighted): {avg_f1:.4f}\")\n",
    "print(f\"Average Accuracy: {avg_accuracy:.4f}\")\n"
   ],
   "id": "bccfeb22a3a793d4",
   "outputs": [
    {
     "name": "stderr",
     "output_type": "stream",
     "text": [
      "C:\\Users\\mateo\\anaconda3\\envs\\deeplearning\\lib\\site-packages\\sklearn\\base.py:474: FutureWarning: `BaseEstimator._validate_data` is deprecated in 1.6 and will be removed in 1.7. Use `sklearn.utils.validation.validate_data` instead. This function becomes public and is part of the scikit-learn developer API.\n",
      "  warnings.warn(\n",
      "C:\\Users\\mateo\\anaconda3\\envs\\deeplearning\\lib\\site-packages\\sklearn\\utils\\_tags.py:354: FutureWarning: The SMOTE or classes from which it inherits use `_get_tags` and `_more_tags`. Please define the `__sklearn_tags__` method, or inherit from `sklearn.base.BaseEstimator` and/or other appropriate mixins such as `sklearn.base.TransformerMixin`, `sklearn.base.ClassifierMixin`, `sklearn.base.RegressorMixin`, and `sklearn.base.OutlierMixin`. From scikit-learn 1.7, not defining `__sklearn_tags__` will raise an error.\n",
      "  warnings.warn(\n",
      "C:\\Users\\mateo\\anaconda3\\envs\\deeplearning\\lib\\site-packages\\sklearn\\base.py:474: FutureWarning: `BaseEstimator._validate_data` is deprecated in 1.6 and will be removed in 1.7. Use `sklearn.utils.validation.validate_data` instead. This function becomes public and is part of the scikit-learn developer API.\n",
      "  warnings.warn(\n",
      "C:\\Users\\mateo\\anaconda3\\envs\\deeplearning\\lib\\site-packages\\sklearn\\utils\\_tags.py:354: FutureWarning: The SMOTE or classes from which it inherits use `_get_tags` and `_more_tags`. Please define the `__sklearn_tags__` method, or inherit from `sklearn.base.BaseEstimator` and/or other appropriate mixins such as `sklearn.base.TransformerMixin`, `sklearn.base.ClassifierMixin`, `sklearn.base.RegressorMixin`, and `sklearn.base.OutlierMixin`. From scikit-learn 1.7, not defining `__sklearn_tags__` will raise an error.\n",
      "  warnings.warn(\n",
      "C:\\Users\\mateo\\anaconda3\\envs\\deeplearning\\lib\\site-packages\\sklearn\\base.py:474: FutureWarning: `BaseEstimator._validate_data` is deprecated in 1.6 and will be removed in 1.7. Use `sklearn.utils.validation.validate_data` instead. This function becomes public and is part of the scikit-learn developer API.\n",
      "  warnings.warn(\n",
      "C:\\Users\\mateo\\anaconda3\\envs\\deeplearning\\lib\\site-packages\\sklearn\\utils\\_tags.py:354: FutureWarning: The SMOTE or classes from which it inherits use `_get_tags` and `_more_tags`. Please define the `__sklearn_tags__` method, or inherit from `sklearn.base.BaseEstimator` and/or other appropriate mixins such as `sklearn.base.TransformerMixin`, `sklearn.base.ClassifierMixin`, `sklearn.base.RegressorMixin`, and `sklearn.base.OutlierMixin`. From scikit-learn 1.7, not defining `__sklearn_tags__` will raise an error.\n",
      "  warnings.warn(\n",
      "C:\\Users\\mateo\\anaconda3\\envs\\deeplearning\\lib\\site-packages\\sklearn\\base.py:474: FutureWarning: `BaseEstimator._validate_data` is deprecated in 1.6 and will be removed in 1.7. Use `sklearn.utils.validation.validate_data` instead. This function becomes public and is part of the scikit-learn developer API.\n",
      "  warnings.warn(\n",
      "C:\\Users\\mateo\\anaconda3\\envs\\deeplearning\\lib\\site-packages\\sklearn\\utils\\_tags.py:354: FutureWarning: The SMOTE or classes from which it inherits use `_get_tags` and `_more_tags`. Please define the `__sklearn_tags__` method, or inherit from `sklearn.base.BaseEstimator` and/or other appropriate mixins such as `sklearn.base.TransformerMixin`, `sklearn.base.ClassifierMixin`, `sklearn.base.RegressorMixin`, and `sklearn.base.OutlierMixin`. From scikit-learn 1.7, not defining `__sklearn_tags__` will raise an error.\n",
      "  warnings.warn(\n",
      "C:\\Users\\mateo\\anaconda3\\envs\\deeplearning\\lib\\site-packages\\sklearn\\base.py:474: FutureWarning: `BaseEstimator._validate_data` is deprecated in 1.6 and will be removed in 1.7. Use `sklearn.utils.validation.validate_data` instead. This function becomes public and is part of the scikit-learn developer API.\n",
      "  warnings.warn(\n",
      "C:\\Users\\mateo\\anaconda3\\envs\\deeplearning\\lib\\site-packages\\sklearn\\utils\\_tags.py:354: FutureWarning: The SMOTE or classes from which it inherits use `_get_tags` and `_more_tags`. Please define the `__sklearn_tags__` method, or inherit from `sklearn.base.BaseEstimator` and/or other appropriate mixins such as `sklearn.base.TransformerMixin`, `sklearn.base.ClassifierMixin`, `sklearn.base.RegressorMixin`, and `sklearn.base.OutlierMixin`. From scikit-learn 1.7, not defining `__sklearn_tags__` will raise an error.\n",
      "  warnings.warn(\n",
      "C:\\Users\\mateo\\anaconda3\\envs\\deeplearning\\lib\\site-packages\\sklearn\\base.py:474: FutureWarning: `BaseEstimator._validate_data` is deprecated in 1.6 and will be removed in 1.7. Use `sklearn.utils.validation.validate_data` instead. This function becomes public and is part of the scikit-learn developer API.\n",
      "  warnings.warn(\n",
      "C:\\Users\\mateo\\anaconda3\\envs\\deeplearning\\lib\\site-packages\\sklearn\\utils\\_tags.py:354: FutureWarning: The SMOTE or classes from which it inherits use `_get_tags` and `_more_tags`. Please define the `__sklearn_tags__` method, or inherit from `sklearn.base.BaseEstimator` and/or other appropriate mixins such as `sklearn.base.TransformerMixin`, `sklearn.base.ClassifierMixin`, `sklearn.base.RegressorMixin`, and `sklearn.base.OutlierMixin`. From scikit-learn 1.7, not defining `__sklearn_tags__` will raise an error.\n",
      "  warnings.warn(\n",
      "C:\\Users\\mateo\\anaconda3\\envs\\deeplearning\\lib\\site-packages\\sklearn\\base.py:474: FutureWarning: `BaseEstimator._validate_data` is deprecated in 1.6 and will be removed in 1.7. Use `sklearn.utils.validation.validate_data` instead. This function becomes public and is part of the scikit-learn developer API.\n",
      "  warnings.warn(\n",
      "C:\\Users\\mateo\\anaconda3\\envs\\deeplearning\\lib\\site-packages\\sklearn\\utils\\_tags.py:354: FutureWarning: The SMOTE or classes from which it inherits use `_get_tags` and `_more_tags`. Please define the `__sklearn_tags__` method, or inherit from `sklearn.base.BaseEstimator` and/or other appropriate mixins such as `sklearn.base.TransformerMixin`, `sklearn.base.ClassifierMixin`, `sklearn.base.RegressorMixin`, and `sklearn.base.OutlierMixin`. From scikit-learn 1.7, not defining `__sklearn_tags__` will raise an error.\n",
      "  warnings.warn(\n",
      "C:\\Users\\mateo\\anaconda3\\envs\\deeplearning\\lib\\site-packages\\sklearn\\base.py:474: FutureWarning: `BaseEstimator._validate_data` is deprecated in 1.6 and will be removed in 1.7. Use `sklearn.utils.validation.validate_data` instead. This function becomes public and is part of the scikit-learn developer API.\n",
      "  warnings.warn(\n",
      "C:\\Users\\mateo\\anaconda3\\envs\\deeplearning\\lib\\site-packages\\sklearn\\utils\\_tags.py:354: FutureWarning: The SMOTE or classes from which it inherits use `_get_tags` and `_more_tags`. Please define the `__sklearn_tags__` method, or inherit from `sklearn.base.BaseEstimator` and/or other appropriate mixins such as `sklearn.base.TransformerMixin`, `sklearn.base.ClassifierMixin`, `sklearn.base.RegressorMixin`, and `sklearn.base.OutlierMixin`. From scikit-learn 1.7, not defining `__sklearn_tags__` will raise an error.\n",
      "  warnings.warn(\n",
      "C:\\Users\\mateo\\anaconda3\\envs\\deeplearning\\lib\\site-packages\\sklearn\\base.py:474: FutureWarning: `BaseEstimator._validate_data` is deprecated in 1.6 and will be removed in 1.7. Use `sklearn.utils.validation.validate_data` instead. This function becomes public and is part of the scikit-learn developer API.\n",
      "  warnings.warn(\n",
      "C:\\Users\\mateo\\anaconda3\\envs\\deeplearning\\lib\\site-packages\\sklearn\\utils\\_tags.py:354: FutureWarning: The SMOTE or classes from which it inherits use `_get_tags` and `_more_tags`. Please define the `__sklearn_tags__` method, or inherit from `sklearn.base.BaseEstimator` and/or other appropriate mixins such as `sklearn.base.TransformerMixin`, `sklearn.base.ClassifierMixin`, `sklearn.base.RegressorMixin`, and `sklearn.base.OutlierMixin`. From scikit-learn 1.7, not defining `__sklearn_tags__` will raise an error.\n",
      "  warnings.warn(\n",
      "C:\\Users\\mateo\\anaconda3\\envs\\deeplearning\\lib\\site-packages\\sklearn\\base.py:474: FutureWarning: `BaseEstimator._validate_data` is deprecated in 1.6 and will be removed in 1.7. Use `sklearn.utils.validation.validate_data` instead. This function becomes public and is part of the scikit-learn developer API.\n",
      "  warnings.warn(\n",
      "C:\\Users\\mateo\\anaconda3\\envs\\deeplearning\\lib\\site-packages\\sklearn\\utils\\_tags.py:354: FutureWarning: The SMOTE or classes from which it inherits use `_get_tags` and `_more_tags`. Please define the `__sklearn_tags__` method, or inherit from `sklearn.base.BaseEstimator` and/or other appropriate mixins such as `sklearn.base.TransformerMixin`, `sklearn.base.ClassifierMixin`, `sklearn.base.RegressorMixin`, and `sklearn.base.OutlierMixin`. From scikit-learn 1.7, not defining `__sklearn_tags__` will raise an error.\n",
      "  warnings.warn(\n",
      "C:\\Users\\mateo\\anaconda3\\envs\\deeplearning\\lib\\site-packages\\sklearn\\base.py:474: FutureWarning: `BaseEstimator._validate_data` is deprecated in 1.6 and will be removed in 1.7. Use `sklearn.utils.validation.validate_data` instead. This function becomes public and is part of the scikit-learn developer API.\n",
      "  warnings.warn(\n",
      "C:\\Users\\mateo\\anaconda3\\envs\\deeplearning\\lib\\site-packages\\sklearn\\utils\\_tags.py:354: FutureWarning: The SMOTE or classes from which it inherits use `_get_tags` and `_more_tags`. Please define the `__sklearn_tags__` method, or inherit from `sklearn.base.BaseEstimator` and/or other appropriate mixins such as `sklearn.base.TransformerMixin`, `sklearn.base.ClassifierMixin`, `sklearn.base.RegressorMixin`, and `sklearn.base.OutlierMixin`. From scikit-learn 1.7, not defining `__sklearn_tags__` will raise an error.\n",
      "  warnings.warn(\n",
      "C:\\Users\\mateo\\anaconda3\\envs\\deeplearning\\lib\\site-packages\\sklearn\\base.py:474: FutureWarning: `BaseEstimator._validate_data` is deprecated in 1.6 and will be removed in 1.7. Use `sklearn.utils.validation.validate_data` instead. This function becomes public and is part of the scikit-learn developer API.\n",
      "  warnings.warn(\n",
      "C:\\Users\\mateo\\anaconda3\\envs\\deeplearning\\lib\\site-packages\\sklearn\\utils\\_tags.py:354: FutureWarning: The SMOTE or classes from which it inherits use `_get_tags` and `_more_tags`. Please define the `__sklearn_tags__` method, or inherit from `sklearn.base.BaseEstimator` and/or other appropriate mixins such as `sklearn.base.TransformerMixin`, `sklearn.base.ClassifierMixin`, `sklearn.base.RegressorMixin`, and `sklearn.base.OutlierMixin`. From scikit-learn 1.7, not defining `__sklearn_tags__` will raise an error.\n",
      "  warnings.warn(\n",
      "C:\\Users\\mateo\\anaconda3\\envs\\deeplearning\\lib\\site-packages\\sklearn\\base.py:474: FutureWarning: `BaseEstimator._validate_data` is deprecated in 1.6 and will be removed in 1.7. Use `sklearn.utils.validation.validate_data` instead. This function becomes public and is part of the scikit-learn developer API.\n",
      "  warnings.warn(\n",
      "C:\\Users\\mateo\\anaconda3\\envs\\deeplearning\\lib\\site-packages\\sklearn\\utils\\_tags.py:354: FutureWarning: The SMOTE or classes from which it inherits use `_get_tags` and `_more_tags`. Please define the `__sklearn_tags__` method, or inherit from `sklearn.base.BaseEstimator` and/or other appropriate mixins such as `sklearn.base.TransformerMixin`, `sklearn.base.ClassifierMixin`, `sklearn.base.RegressorMixin`, and `sklearn.base.OutlierMixin`. From scikit-learn 1.7, not defining `__sklearn_tags__` will raise an error.\n",
      "  warnings.warn(\n",
      "C:\\Users\\mateo\\anaconda3\\envs\\deeplearning\\lib\\site-packages\\sklearn\\base.py:474: FutureWarning: `BaseEstimator._validate_data` is deprecated in 1.6 and will be removed in 1.7. Use `sklearn.utils.validation.validate_data` instead. This function becomes public and is part of the scikit-learn developer API.\n",
      "  warnings.warn(\n",
      "C:\\Users\\mateo\\anaconda3\\envs\\deeplearning\\lib\\site-packages\\sklearn\\utils\\_tags.py:354: FutureWarning: The SMOTE or classes from which it inherits use `_get_tags` and `_more_tags`. Please define the `__sklearn_tags__` method, or inherit from `sklearn.base.BaseEstimator` and/or other appropriate mixins such as `sklearn.base.TransformerMixin`, `sklearn.base.ClassifierMixin`, `sklearn.base.RegressorMixin`, and `sklearn.base.OutlierMixin`. From scikit-learn 1.7, not defining `__sklearn_tags__` will raise an error.\n",
      "  warnings.warn(\n",
      "C:\\Users\\mateo\\anaconda3\\envs\\deeplearning\\lib\\site-packages\\sklearn\\base.py:474: FutureWarning: `BaseEstimator._validate_data` is deprecated in 1.6 and will be removed in 1.7. Use `sklearn.utils.validation.validate_data` instead. This function becomes public and is part of the scikit-learn developer API.\n",
      "  warnings.warn(\n",
      "C:\\Users\\mateo\\anaconda3\\envs\\deeplearning\\lib\\site-packages\\sklearn\\utils\\_tags.py:354: FutureWarning: The SMOTE or classes from which it inherits use `_get_tags` and `_more_tags`. Please define the `__sklearn_tags__` method, or inherit from `sklearn.base.BaseEstimator` and/or other appropriate mixins such as `sklearn.base.TransformerMixin`, `sklearn.base.ClassifierMixin`, `sklearn.base.RegressorMixin`, and `sklearn.base.OutlierMixin`. From scikit-learn 1.7, not defining `__sklearn_tags__` will raise an error.\n",
      "  warnings.warn(\n"
     ]
    },
    {
     "name": "stdout",
     "output_type": "stream",
     "text": [
      "Average Precision: 0.8222\n",
      "Average Recall: 0.8197\n",
      "Average F1-Score (Weighted): 0.8205\n",
      "Average Accuracy: 0.8197\n"
     ]
    }
   ],
   "execution_count": 17
  },
  {
   "metadata": {},
   "cell_type": "markdown",
   "source": "",
   "id": "6e6989de021fe133"
  },
  {
   "metadata": {
    "ExecuteTime": {
     "end_time": "2024-12-19T16:51:00.812820Z",
     "start_time": "2024-12-19T16:47:48.565676Z"
    }
   },
   "cell_type": "code",
   "source": "",
   "id": "c31b825bbb67929e",
   "outputs": [
    {
     "name": "stdout",
     "output_type": "stream",
     "text": [
      "87/87 [==============================] - 182s 2s/step - loss: 0.6654 - accuracy: 0.6251 - val_loss: 0.9991 - val_accuracy: 0.0000e+00\n",
      "17/17 [==============================] - 10s 591ms/step\n",
      "              precision    recall  f1-score   support\n",
      "\n",
      "    negative       0.00      0.00      0.00       172\n",
      "    positive       0.68      1.00      0.81       371\n",
      "\n",
      "    accuracy                           0.68       543\n",
      "   macro avg       0.34      0.50      0.41       543\n",
      "weighted avg       0.47      0.68      0.55       543\n",
      "\n",
      "Confusion Matrix:\n",
      " [[  0 172]\n",
      " [  0 371]]\n"
     ]
    }
   ],
   "execution_count": 66
  },
  {
   "metadata": {
    "ExecuteTime": {
     "end_time": "2024-12-19T14:27:38.603097Z",
     "start_time": "2024-12-19T14:27:38.601444Z"
    }
   },
   "cell_type": "code",
   "outputs": [],
   "source": "",
   "id": "2dda8fbb38f64816",
   "execution_count": null
  },
  {
   "metadata": {},
   "cell_type": "code",
   "outputs": [],
   "source": "",
   "id": "3dcfbd8978f393d0",
   "execution_count": null
  }
 ],
 "metadata": {
  "kernelspec": {
   "display_name": "Python (deeplearning)",
   "language": "python",
   "name": "deeplearning"
  },
  "language_info": {
   "codemirror_mode": {
    "name": "ipython",
    "version": 2
   },
   "file_extension": ".py",
   "mimetype": "text/x-python",
   "name": "python",
   "nbconvert_exporter": "python",
   "pygments_lexer": "ipython2",
   "version": "2.7.6"
  }
 },
 "nbformat": 4,
 "nbformat_minor": 5
}
